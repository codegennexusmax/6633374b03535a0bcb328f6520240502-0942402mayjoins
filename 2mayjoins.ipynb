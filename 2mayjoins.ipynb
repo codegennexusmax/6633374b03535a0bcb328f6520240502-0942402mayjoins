{
 "cells": [
  {
   "cell_type": "markdown",
   "id": "1bbf6d65",
   "metadata": {},
   "source": [
    "***GENERATED CODE FOR 2mayjoins PIPELINE.***"
   ]
  },
  {
   "cell_type": "markdown",
   "id": "d84b48cc",
   "metadata": {},
   "source": [
    "***DON'T EDIT THIS CODE.***"
   ]
  },
  {
   "cell_type": "markdown",
   "id": "2780d749",
   "metadata": {},
   "source": [
    "***CONNECTOR FUNCTIONS TO READ DATA.***"
   ]
  },
  {
   "cell_type": "code",
   "execution_count": null,
   "id": "93d50120",
   "metadata": {},
   "outputs": [],
   "source": [
    "import os\n",
    "import datetime\n",
    "import logging\n",
    "import warnings\n",
    "warnings.filterwarnings('ignore')\n",
    "logging.basicConfig(format='%(levelname)s:%(message)s', level=logging.INFO)\n",
    "\n",
    "\n",
    "class HDFSConnector:\n",
    "\n",
    "    def fetch(spark, config):\n",
    "        ################### INPUT HADOOP HOST PORT TO CONNECT WITH ###############################\n",
    "        hdfs_server = str(os.environ['HDFS_SERVER'])\n",
    "        hdfs_port = int(os.environ['HDFS_PORT'])\n",
    "        df = spark.read.options(header='true', inferschema='true').csv(\n",
    "            f\"hdfs://{hdfs_server}:{hdfs_port}{eval(config)['url']}\", header='true')\n",
    "        display(df.limit(2).toPandas())\n",
    "        return df\n",
    "\n",
    "    def put(df, spark, config):\n",
    "        return df.write.format('csv').options(header='true' if eval(config)[\"is_header\"] == \"Use Header Line\" else 'false',\n",
    "                                              delimiter=eval(config)[\"delimiter\"]).save((\"%s %s\") % (datetime.datetime.now().strftime(\"%Y-%m-%d %H.%M.%S\")+\"_\", eval(config)['url']))\n"
   ]
  },
  {
   "cell_type": "markdown",
   "id": "5987d883",
   "metadata": {},
   "source": [
    "***OPERATION FUNCTIONS***"
   ]
  },
  {
   "cell_type": "code",
   "execution_count": null,
   "id": "eeafe5fc",
   "metadata": {},
   "outputs": [],
   "source": [
    "\n",
    "\n",
    "def QueryEditor(spark, joindataobj):\n",
    "    for source in joindataobj[\"sourcesForQuery\"]:\n",
    "        sourcename = source['sourcename']\n",
    "        source['sourcename'] = spark.read.options(header='true', inferschema='true', delimiter=',')\\\n",
    "            .csv('dbfs:' + source['sourcepath'])\n",
    "        source['sourcename'].createOrReplaceTempView(sourcename)\n",
    "    joinedDf = spark.sql(joindataobj['querytext'])\n",
    "    df = removeIfDuplicates(joinedDf)\n",
    "    print(display(df.limit(2).toPandas()))\n",
    "    return df\n",
    "\n",
    "\n",
    "def removeIfDuplicates(joinedDf):\n",
    "    cols_new = []\n",
    "    seen = set()\n",
    "    for c in joinedDf.columns:\n",
    "        cols_new.append('{}_dup'.format(c) if c in seen else c)\n",
    "        seen.add(c)\n",
    "    df = joinedDf.toDF(*cols_new).select(*\n",
    "                                         [c for c in cols_new if not c.endswith('_dup')])\n",
    "    return df\n"
   ]
  },
  {
   "cell_type": "markdown",
   "id": "23c57c29",
   "metadata": {},
   "source": [
    "***CONNECTOR FUNCTIONS TO WRITE DATA.***"
   ]
  },
  {
   "cell_type": "code",
   "execution_count": null,
   "id": "1ff5bd4a",
   "metadata": {},
   "outputs": [],
   "source": [
    "import datetime\n",
    "import requests\n",
    "import datetime\n",
    "import logging\n",
    "import warnings\n",
    "warnings.filterwarnings('ignore')\n",
    "logging.basicConfig(format='%(levelname)s:%(message)s', level=logging.INFO)\n",
    "\n",
    "\n",
    "class NumtraConnector:\n",
    "\n",
    "    def put(inStages, inStagesData, stageId, spark, config):\n",
    "        path = eval(config)['server_url']\n",
    "        baseType = eval(config)['baseType']\n",
    "        results_url = eval(config)['results_url']\n",
    "        server = eval(config)['server']\n",
    "        originalfile = eval(config)['orignalKey']\n",
    "        eval(config)['pathOnly']\n",
    "        filename = eval(config)['filename']\n",
    "        eval(config)['ser']\n",
    "        eval(config)['user']\n",
    "        eval(config)['password']\n",
    "        eval(config)['authSource']\n",
    "        eval(config)['user_id']\n",
    "        eval(config)['parent_id']\n",
    "        eval(config)['project_id']\n",
    "        time = str(int(datetime.datetime.now().timestamp()))\n",
    "\n",
    "        inStagesData[inStages[0]]\n",
    "\n",
    "        print(path)\n",
    "        print(baseType)\n",
    "        print(results_url)\n",
    "        print(server)\n",
    "        print(originalfile)\n",
    "        print(filename)\n",
    "\n",
    "        args = {\n",
    "            'url': path,\n",
    "            'baseType': baseType,\n",
    "            'originalfile': originalfile,\n",
    "            'filename': time + filename\n",
    "        }\n",
    "\n",
    "        response = requests.post(results_url, args)\n",
    "        return response\n"
   ]
  },
  {
   "cell_type": "markdown",
   "id": "3983ec76",
   "metadata": {},
   "source": [
    "***READING DATAFRAME***"
   ]
  },
  {
   "cell_type": "code",
   "execution_count": null,
   "id": "92e3f93e",
   "metadata": {},
   "outputs": [],
   "source": [
    "############## CREATE SPARK SESSION ############################ ENTER YOUR SPARK MASTER IP AND PORT TO CONNECT TO SERVER ################\n",
    "from pyspark.sql import SparkSession\n",
    "spark = SparkSession.builder.master('local[1]').getOrCreate()\n",
    "#%run 2mayjoinsHooks.ipynb\n",
    "try:\n",
    "\t#sourcePreExecutionHook()\n",
    "\t\theartfailurep = HDFSConnector.fetch(spark, \"{'url': '/FileStore/platform/testdata/1714632501566_HeartFailureP4.csv', 'filename': 'HeartFailureP4.csv', 'delimiter': ',', 'file_type': 'Delimeted', 'FilePath': '/OperatorsTest/OperatorsDataset/HeartFailureP4.csv', 'viewFileName': 'HeartFailureP4.csv', 'is_header': 'Use Header Line', 'baseType': 'hdfs', 'server_url': '/nexusMax/NexusMaxPlatform/uploads/platform/'}\")\n",
    "\n",
    "\n",
    "\n",
    "\theartfailurep = HDFSConnector.fetch(spark, \"{'url': '/FileStore/platform/testdata/1714632493575_HeartFailureP3.csv', 'filename': 'HeartFailureP3.csv', 'delimiter': ',', 'file_type': 'Delimeted', 'dbfs_token': '', 'dbfs_domain': '', 'FilePath': '/OperatorsTest/OperatorsDataset/HeartFailureP3.csv', 'viewFileName': 'HeartFailureP3.csv', 'is_header': 'Use Header Line', 'baseType': 'hdfs', 'server_url': '/nexusMax/NexusMaxPlatform/uploads/platform/', 'results_url': 'http://dnm.bfirst.ai:44040/api/read/hdfs'}\")\n",
    "\n",
    "except Exception as ex: \n",
    "\tlogging.error(ex)\n",
    "#spark.stop()\n"
   ]
  },
  {
   "cell_type": "markdown",
   "id": "ead1b619",
   "metadata": {},
   "source": [
    "***PERFORMING OPERATIONS***"
   ]
  },
  {
   "cell_type": "code",
   "execution_count": null,
   "id": "f1f0e2ef",
   "metadata": {},
   "outputs": [],
   "source": [
    "#%run 2mayjoinsHooks.ipynb\n",
    "try:\n",
    "\t#operationPreExecutionHook()\n",
    "\n",
    "\tjoin = QueryEditor(spark, {\"querytext\": \"select t1.age, t1.smoking, t1.high_blood_pressure from heartfailurep4 as t1 left join heartfailurep3 on t1.age = heartfailurep3.age\", \"sourcesForQuery\": [{\"sourcename\": \"heartfailurep4\", \"sourceinfo\": {\"source\": \"hdfs\", \"sourceAttributes\": {\"url\": \"/FileStore/platform/testdata/1714632501566_HeartFailureP4.csv\"}}, \"sourceid\": \"6633375803535a0bcb328f88\"}, {\"sourcename\": \"heartfailurep3\", \"sourceinfo\": {\"source\": \"hdfs\", \"sourceAttributes\": {\"url\": \"/FileStore/platform/testdata/1714632493575_HeartFailureP3.csv\"}}, \"sourceid\": \"6633375603535a0bcb328f7f\"}], \"fieldsForQuery\": [{\"sourcename\": \"heartfailurep4\", \"fieldname\": \"age\"}, {\"sourcename\": \"heartfailurep4\", \"fieldname\": \"high_blood_pressure\"}, {\"sourcename\": \"heartfailurep4\", \"fieldname\": \"smoking\"}, {\"sourcename\": \"heartfailurep3\", \"fieldname\": \"age\"}]})\n",
    "\t#operationPostExecutionHook(join)\n",
    "\n",
    "except Exception as ex: \n",
    "\tlogging.error(ex)\n"
   ]
  },
  {
   "cell_type": "markdown",
   "id": "7063ca4b",
   "metadata": {},
   "source": [
    "***WRITING DATAFRAME***"
   ]
  },
  {
   "cell_type": "code",
   "execution_count": null,
   "id": "bc43bb2d",
   "metadata": {},
   "outputs": [],
   "source": [
    "#%run 2mayjoinsHooks.ipynb\n",
    "try:\n",
    "\t#sinkPreExecutionHook()\n",
    "\n",
    "\toperatorsdatasetoutput = NumtraConnector.fetch(spark, \"{'samplefile': '/FileStore/platform/sampleData/6633375803535a0bcb328f85JoinStage/part-00000-1b8ea0e0-670f-48e0-a523-b886b3b8537d-c000.csv', 'samplecount': 64, 'originalcount': 64, 'orignalKey': '/FileStore/platform/sampleData/6633375803535a0bcb328f85JoinStage/part-00000-1b8ea0e0-670f-48e0-a523-b886b3b8537d-c000.csv', 'pathOnly': '/OperatorsTest/OperatorsDataset', 'project_id': '6627a219b6d893f4c9a9ee24', 'parent_id': '6627a219b6d893f4c9a9ee24', 'original_schema': [{'checked': True, 'inherited': True, 'is_categorical': False, 'bad_values': '', 'nullable': 'true', '_id': '66335fc303535a0bcb3298d0', 'field': 'age', 'alias': 'age', 'position': '0'}, {'checked': True, 'inherited': True, 'is_categorical': False, 'bad_values': '', 'nullable': 'true', '_id': '66335fc303535a0bcb3298d1', 'field': 'smoking', 'alias': 'smoking', 'position': '1'}, {'checked': True, 'inherited': True, 'is_categorical': False, 'bad_values': '', 'nullable': 'true', '_id': '66335fc303535a0bcb3298d2', 'field': 'high_blood_pressure', 'alias': 'high_blood_pressure', 'position': '2'}], 'actual_schema': [{'checked': True, 'inherited': True, 'is_categorical': False, 'bad_values': '', 'nullable': 'true', '_id': '66335fc303535a0bcb3298cd', 'field': 'age', 'alias': 'age', 'type': 'numeric'}, {'checked': True, 'inherited': True, 'is_categorical': False, 'bad_values': '', 'nullable': 'true', '_id': '66335fc303535a0bcb3298ce', 'field': 'smoking', 'alias': 'smoking', 'type': 'numeric'}, {'checked': True, 'inherited': True, 'is_categorical': False, 'bad_values': '', 'nullable': 'true', '_id': '66335fc303535a0bcb3298cf', 'field': 'high_blood_pressure', 'alias': 'high_blood_pressure', 'type': 'numeric'}], 'server': 'https://dnm.bfirst.ai:443', 'server_url': '/nexusMax/NexusMaxPlatform/uploads/platform/', 'delimiter': ',', 'file_type': 'Delimeted', 'filename': 'HFP3P4Join.csv', 'token': '', 'domain': '', 'is_header': 'Use Header Line', 'url': '/FileStore/platform/uploadedSourceFiles/part-00000-de5c1ea5-e9ad-4ee4-af5d-a46c1285e101-c000.csv', 'results_url': 'http://dnm.bfirst.ai:44040/api/read/hdfs'}\")\n",
    "\n",
    "except Exception as ex: \n",
    "\tlogging.error(ex)\n"
   ]
  }
 ],
 "metadata": {},
 "nbformat": 4,
 "nbformat_minor": 5
}
